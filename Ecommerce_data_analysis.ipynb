{
 "cells": [
  {
   "cell_type": "markdown",
   "id": "361d56d8-75ae-4332-b828-4efacf78e09c",
   "metadata": {},
   "source": [
    "# E-COMMERCE SALES PROJECT"
   ]
  },
  {
   "cell_type": "markdown",
   "id": "0e0b2937-c5bd-47be-a7a0-9e5e5702e846",
   "metadata": {},
   "source": [
    "## Importing Libraries"
   ]
  },
  {
   "cell_type": "code",
   "execution_count": 1,
   "id": "12827123-d87a-4ce7-9983-0d39ce65d9ed",
   "metadata": {},
   "outputs": [],
   "source": [
    "import pandas as pd\n",
    "import numpy as np\n",
    "import seaborn as sns\n",
    "import matplotlib.pyplot as plt\n",
    "from matplotlib.gridspec import GridSpec"
   ]
  },
  {
   "cell_type": "markdown",
   "id": "1601acd9-a5fe-417a-9ebe-c529969b797c",
   "metadata": {},
   "source": [
    "## Loading Data"
   ]
  },
  {
   "cell_type": "code",
   "execution_count": 2,
   "id": "a9e61953-bd57-4d7c-ae8a-4b38d88c1bde",
   "metadata": {},
   "outputs": [],
   "source": [
    "data=pd.read_csv('ecommerce_sales.csv')"
   ]
  },
  {
   "cell_type": "code",
   "execution_count": 3,
   "id": "6f42db61-4fae-4d07-9a82-b5cb98581996",
   "metadata": {},
   "outputs": [
    {
     "data": {
      "text/html": [
       "<div>\n",
       "<style scoped>\n",
       "    .dataframe tbody tr th:only-of-type {\n",
       "        vertical-align: middle;\n",
       "    }\n",
       "\n",
       "    .dataframe tbody tr th {\n",
       "        vertical-align: top;\n",
       "    }\n",
       "\n",
       "    .dataframe thead th {\n",
       "        text-align: right;\n",
       "    }\n",
       "</style>\n",
       "<table border=\"1\" class=\"dataframe\">\n",
       "  <thead>\n",
       "    <tr style=\"text-align: right;\">\n",
       "      <th></th>\n",
       "      <th>Row ID</th>\n",
       "      <th>Order Date</th>\n",
       "      <th>Customer ID</th>\n",
       "      <th>Customer Name</th>\n",
       "      <th>Gender</th>\n",
       "      <th>Segment</th>\n",
       "      <th>Product ID</th>\n",
       "      <th>Category</th>\n",
       "      <th>Sub Category</th>\n",
       "      <th>Product Name</th>\n",
       "      <th>Quantity</th>\n",
       "      <th>Price per Unit</th>\n",
       "    </tr>\n",
       "  </thead>\n",
       "  <tbody>\n",
       "    <tr>\n",
       "      <th>0</th>\n",
       "      <td>6847</td>\n",
       "      <td>20/10/3024</td>\n",
       "      <td>CUST-6489</td>\n",
       "      <td>Harish Bhat</td>\n",
       "      <td>Male</td>\n",
       "      <td>NaN</td>\n",
       "      <td>PROD-328</td>\n",
       "      <td>Office Supplies</td>\n",
       "      <td>Writing</td>\n",
       "      <td>Marker</td>\n",
       "      <td>4</td>\n",
       "      <td>4457.22</td>\n",
       "    </tr>\n",
       "    <tr>\n",
       "      <th>1</th>\n",
       "      <td>5640</td>\n",
       "      <td>2024-09-28</td>\n",
       "      <td>CUST-8543</td>\n",
       "      <td>Divya Menon</td>\n",
       "      <td>Female</td>\n",
       "      <td>Consumer</td>\n",
       "      <td>PROD-309</td>\n",
       "      <td>Office Supplies</td>\n",
       "      <td>Storage</td>\n",
       "      <td>File Box</td>\n",
       "      <td>7</td>\n",
       "      <td>₹1200.83</td>\n",
       "    </tr>\n",
       "    <tr>\n",
       "      <th>2</th>\n",
       "      <td>1358</td>\n",
       "      <td>2025-01-02</td>\n",
       "      <td>CUST-3820</td>\n",
       "      <td>Ritu Singh</td>\n",
       "      <td>Female</td>\n",
       "      <td>NaN</td>\n",
       "      <td>PROD-360</td>\n",
       "      <td>Technology</td>\n",
       "      <td>Laptops</td>\n",
       "      <td>Gaming Laptop</td>\n",
       "      <td>1</td>\n",
       "      <td>125.85</td>\n",
       "    </tr>\n",
       "    <tr>\n",
       "      <th>3</th>\n",
       "      <td>1497</td>\n",
       "      <td>2024-04-25</td>\n",
       "      <td>CUST-1685</td>\n",
       "      <td>Deepak Kumar</td>\n",
       "      <td>Male</td>\n",
       "      <td>NaN</td>\n",
       "      <td>PROD-113</td>\n",
       "      <td>Technology</td>\n",
       "      <td>Accessories</td>\n",
       "      <td>Headphones</td>\n",
       "      <td>3</td>\n",
       "      <td>6106.97</td>\n",
       "    </tr>\n",
       "    <tr>\n",
       "      <th>4</th>\n",
       "      <td>5689</td>\n",
       "      <td>2025-07-01</td>\n",
       "      <td>CUST-8560</td>\n",
       "      <td>Meera Desai</td>\n",
       "      <td>Female</td>\n",
       "      <td>Home Office</td>\n",
       "      <td>PROD-880</td>\n",
       "      <td>Furniture</td>\n",
       "      <td>Chairs</td>\n",
       "      <td>Folding Chair</td>\n",
       "      <td>3</td>\n",
       "      <td>1615.7</td>\n",
       "    </tr>\n",
       "    <tr>\n",
       "      <th>...</th>\n",
       "      <td>...</td>\n",
       "      <td>...</td>\n",
       "      <td>...</td>\n",
       "      <td>...</td>\n",
       "      <td>...</td>\n",
       "      <td>...</td>\n",
       "      <td>...</td>\n",
       "      <td>...</td>\n",
       "      <td>...</td>\n",
       "      <td>...</td>\n",
       "      <td>...</td>\n",
       "      <td>...</td>\n",
       "    </tr>\n",
       "    <tr>\n",
       "      <th>10495</th>\n",
       "      <td>1100</td>\n",
       "      <td>2020-04-19</td>\n",
       "      <td>CUST-2992</td>\n",
       "      <td>Shivam Chauhan</td>\n",
       "      <td>Male</td>\n",
       "      <td>Corporate</td>\n",
       "      <td>PROD-302</td>\n",
       "      <td>Technology</td>\n",
       "      <td>Copiers</td>\n",
       "      <td>Inkjet Copier</td>\n",
       "      <td>3</td>\n",
       "      <td>3921.87</td>\n",
       "    </tr>\n",
       "    <tr>\n",
       "      <th>10496</th>\n",
       "      <td>2515</td>\n",
       "      <td>08-12-2022</td>\n",
       "      <td>CUST-1383</td>\n",
       "      <td>Aditya Ghosh</td>\n",
       "      <td>Male</td>\n",
       "      <td>Home Office</td>\n",
       "      <td>PROD-126</td>\n",
       "      <td>Technology</td>\n",
       "      <td>Laptops</td>\n",
       "      <td>Ultrabook Laptop</td>\n",
       "      <td>5</td>\n",
       "      <td>3284.15</td>\n",
       "    </tr>\n",
       "    <tr>\n",
       "      <th>10497</th>\n",
       "      <td>6638</td>\n",
       "      <td>2024-06-13</td>\n",
       "      <td>CUST-9506</td>\n",
       "      <td>Kishore Shetty</td>\n",
       "      <td>Male</td>\n",
       "      <td>Consumer</td>\n",
       "      <td>PROD-358</td>\n",
       "      <td>Technology</td>\n",
       "      <td>Copiers</td>\n",
       "      <td>Inkjet Copier</td>\n",
       "      <td>1</td>\n",
       "      <td>733.76</td>\n",
       "    </tr>\n",
       "    <tr>\n",
       "      <th>10498</th>\n",
       "      <td>2576</td>\n",
       "      <td>2025-06-19</td>\n",
       "      <td>CUST-4333</td>\n",
       "      <td>Sunita Jadhav</td>\n",
       "      <td>Female</td>\n",
       "      <td>NaN</td>\n",
       "      <td>PROD-998</td>\n",
       "      <td>Furniture</td>\n",
       "      <td>Bookcases</td>\n",
       "      <td>Metal Shelf</td>\n",
       "      <td>3</td>\n",
       "      <td>6668.78</td>\n",
       "    </tr>\n",
       "    <tr>\n",
       "      <th>10499</th>\n",
       "      <td>7337</td>\n",
       "      <td>2020-06-09</td>\n",
       "      <td>CUST-6989</td>\n",
       "      <td>Tanya Kapoor</td>\n",
       "      <td>Female</td>\n",
       "      <td>Consumer</td>\n",
       "      <td>PROD-561</td>\n",
       "      <td>Technology</td>\n",
       "      <td>Accessories</td>\n",
       "      <td>Headphones</td>\n",
       "      <td>5</td>\n",
       "      <td>3241.18</td>\n",
       "    </tr>\n",
       "  </tbody>\n",
       "</table>\n",
       "<p>10500 rows × 12 columns</p>\n",
       "</div>"
      ],
      "text/plain": [
       "       Row ID  Order Date Customer ID   Customer Name  Gender      Segment  \\\n",
       "0        6847  20/10/3024   CUST-6489     Harish Bhat    Male          NaN   \n",
       "1        5640  2024-09-28   CUST-8543     Divya Menon  Female     Consumer   \n",
       "2        1358  2025-01-02   CUST-3820      Ritu Singh  Female          NaN   \n",
       "3        1497  2024-04-25   CUST-1685    Deepak Kumar    Male          NaN   \n",
       "4        5689  2025-07-01   CUST-8560     Meera Desai  Female  Home Office   \n",
       "...       ...         ...         ...             ...     ...          ...   \n",
       "10495    1100  2020-04-19   CUST-2992  Shivam Chauhan    Male    Corporate   \n",
       "10496    2515  08-12-2022   CUST-1383    Aditya Ghosh    Male  Home Office   \n",
       "10497    6638  2024-06-13   CUST-9506  Kishore Shetty    Male     Consumer   \n",
       "10498    2576  2025-06-19   CUST-4333   Sunita Jadhav  Female          NaN   \n",
       "10499    7337  2020-06-09   CUST-6989    Tanya Kapoor  Female     Consumer   \n",
       "\n",
       "      Product ID         Category Sub Category      Product Name Quantity  \\\n",
       "0       PROD-328  Office Supplies      Writing            Marker        4   \n",
       "1       PROD-309  Office Supplies      Storage          File Box        7   \n",
       "2       PROD-360       Technology      Laptops     Gaming Laptop        1   \n",
       "3       PROD-113       Technology  Accessories        Headphones        3   \n",
       "4       PROD-880        Furniture       Chairs     Folding Chair        3   \n",
       "...          ...              ...          ...               ...      ...   \n",
       "10495   PROD-302       Technology      Copiers     Inkjet Copier        3   \n",
       "10496   PROD-126       Technology      Laptops  Ultrabook Laptop        5   \n",
       "10497   PROD-358       Technology      Copiers     Inkjet Copier        1   \n",
       "10498   PROD-998        Furniture    Bookcases       Metal Shelf        3   \n",
       "10499   PROD-561       Technology  Accessories        Headphones        5   \n",
       "\n",
       "      Price per Unit  \n",
       "0            4457.22  \n",
       "1           ₹1200.83  \n",
       "2             125.85  \n",
       "3            6106.97  \n",
       "4             1615.7  \n",
       "...              ...  \n",
       "10495        3921.87  \n",
       "10496        3284.15  \n",
       "10497         733.76  \n",
       "10498        6668.78  \n",
       "10499        3241.18  \n",
       "\n",
       "[10500 rows x 12 columns]"
      ]
     },
     "execution_count": 3,
     "metadata": {},
     "output_type": "execute_result"
    }
   ],
   "source": [
    "data"
   ]
  },
  {
   "cell_type": "code",
   "execution_count": null,
   "id": "34978287-2d57-4b2e-b54a-d3f2d8b8309c",
   "metadata": {},
   "outputs": [],
   "source": []
  },
  {
   "cell_type": "markdown",
   "id": "9d9761e5-2421-4da8-b9d7-3837562ec499",
   "metadata": {},
   "source": [
    "## Data Cleaning"
   ]
  },
  {
   "cell_type": "code",
   "execution_count": null,
   "id": "d6f69656-a457-4e9e-a02d-aa54b3f52c79",
   "metadata": {},
   "outputs": [],
   "source": []
  },
  {
   "cell_type": "code",
   "execution_count": 4,
   "id": "b828f6e6-e450-4067-b164-d87172f22736",
   "metadata": {},
   "outputs": [
    {
     "data": {
      "text/plain": [
       "(10500, 12)"
      ]
     },
     "execution_count": 4,
     "metadata": {},
     "output_type": "execute_result"
    }
   ],
   "source": [
    "data.shape"
   ]
  },
  {
   "cell_type": "code",
   "execution_count": 5,
   "id": "e0873a86-646b-4dda-8ca8-3a25471d4aa2",
   "metadata": {},
   "outputs": [
    {
     "data": {
      "text/html": [
       "<div>\n",
       "<style scoped>\n",
       "    .dataframe tbody tr th:only-of-type {\n",
       "        vertical-align: middle;\n",
       "    }\n",
       "\n",
       "    .dataframe tbody tr th {\n",
       "        vertical-align: top;\n",
       "    }\n",
       "\n",
       "    .dataframe thead th {\n",
       "        text-align: right;\n",
       "    }\n",
       "</style>\n",
       "<table border=\"1\" class=\"dataframe\">\n",
       "  <thead>\n",
       "    <tr style=\"text-align: right;\">\n",
       "      <th></th>\n",
       "      <th>Row ID</th>\n",
       "      <th>Order Date</th>\n",
       "      <th>Customer ID</th>\n",
       "      <th>Customer Name</th>\n",
       "      <th>Gender</th>\n",
       "      <th>Segment</th>\n",
       "      <th>Product ID</th>\n",
       "      <th>Category</th>\n",
       "      <th>Sub Category</th>\n",
       "      <th>Product Name</th>\n",
       "      <th>Quantity</th>\n",
       "      <th>Price per Unit</th>\n",
       "    </tr>\n",
       "  </thead>\n",
       "  <tbody>\n",
       "    <tr>\n",
       "      <th>5608</th>\n",
       "      <td>6247</td>\n",
       "      <td>2023-09-04</td>\n",
       "      <td>CUST-5036</td>\n",
       "      <td>Amitabh Sinha</td>\n",
       "      <td>Male</td>\n",
       "      <td>NaN</td>\n",
       "      <td>PROD-148</td>\n",
       "      <td>Technology</td>\n",
       "      <td>Accessories</td>\n",
       "      <td>Headphones</td>\n",
       "      <td>2</td>\n",
       "      <td>3088.01</td>\n",
       "    </tr>\n",
       "    <tr>\n",
       "      <th>9368</th>\n",
       "      <td>4776</td>\n",
       "      <td>2025-07-08</td>\n",
       "      <td>CUST-3927</td>\n",
       "      <td>Rohit Kapoor</td>\n",
       "      <td>Male</td>\n",
       "      <td>Home Office</td>\n",
       "      <td>PROD-757</td>\n",
       "      <td>Technology</td>\n",
       "      <td>Copiers</td>\n",
       "      <td>Laser Copier</td>\n",
       "      <td>6</td>\n",
       "      <td>4880.06</td>\n",
       "    </tr>\n",
       "    <tr>\n",
       "      <th>1127</th>\n",
       "      <td>5330</td>\n",
       "      <td>26-01-2020</td>\n",
       "      <td>CUST-9162</td>\n",
       "      <td>Madhuri Nair</td>\n",
       "      <td>Female</td>\n",
       "      <td>Consumer</td>\n",
       "      <td>PROD-567</td>\n",
       "      <td>Office Supplies</td>\n",
       "      <td>Binders</td>\n",
       "      <td>View Binder</td>\n",
       "      <td>8</td>\n",
       "      <td>2939.4</td>\n",
       "    </tr>\n",
       "    <tr>\n",
       "      <th>4578</th>\n",
       "      <td>9455</td>\n",
       "      <td>2023-11-16</td>\n",
       "      <td>CUST-9844</td>\n",
       "      <td>Neha Gupta</td>\n",
       "      <td>Female</td>\n",
       "      <td>NaN</td>\n",
       "      <td>PROD-100</td>\n",
       "      <td>Furniture</td>\n",
       "      <td>Bookcases</td>\n",
       "      <td>Wooden Bookcase</td>\n",
       "      <td>9</td>\n",
       "      <td>4590.85</td>\n",
       "    </tr>\n",
       "    <tr>\n",
       "      <th>5999</th>\n",
       "      <td>3363</td>\n",
       "      <td>2024-07-18</td>\n",
       "      <td>CUST-8888</td>\n",
       "      <td>Rohit Kapoor</td>\n",
       "      <td>Male</td>\n",
       "      <td>Corporate</td>\n",
       "      <td>PROD-527</td>\n",
       "      <td>Office Supplies</td>\n",
       "      <td>Binders</td>\n",
       "      <td>View Binder</td>\n",
       "      <td>5</td>\n",
       "      <td>1907.27</td>\n",
       "    </tr>\n",
       "  </tbody>\n",
       "</table>\n",
       "</div>"
      ],
      "text/plain": [
       "      Row ID  Order Date Customer ID  Customer Name  Gender      Segment  \\\n",
       "5608    6247  2023-09-04   CUST-5036  Amitabh Sinha    Male          NaN   \n",
       "9368    4776  2025-07-08   CUST-3927   Rohit Kapoor    Male  Home Office   \n",
       "1127    5330  26-01-2020   CUST-9162   Madhuri Nair  Female     Consumer   \n",
       "4578    9455  2023-11-16   CUST-9844     Neha Gupta  Female          NaN   \n",
       "5999    3363  2024-07-18   CUST-8888   Rohit Kapoor    Male    Corporate   \n",
       "\n",
       "     Product ID         Category Sub Category     Product Name Quantity  \\\n",
       "5608   PROD-148       Technology  Accessories       Headphones        2   \n",
       "9368   PROD-757       Technology      Copiers     Laser Copier        6   \n",
       "1127   PROD-567  Office Supplies      Binders      View Binder        8   \n",
       "4578   PROD-100        Furniture    Bookcases  Wooden Bookcase        9   \n",
       "5999   PROD-527  Office Supplies      Binders      View Binder        5   \n",
       "\n",
       "     Price per Unit  \n",
       "5608        3088.01  \n",
       "9368        4880.06  \n",
       "1127         2939.4  \n",
       "4578        4590.85  \n",
       "5999        1907.27  "
      ]
     },
     "execution_count": 5,
     "metadata": {},
     "output_type": "execute_result"
    }
   ],
   "source": [
    "data.sample(5)"
   ]
  },
  {
   "cell_type": "code",
   "execution_count": 6,
   "id": "f3ead62f-8939-4693-956d-3d94e174c98a",
   "metadata": {},
   "outputs": [
    {
     "data": {
      "text/plain": [
       "Row ID               0\n",
       "Order Date           0\n",
       "Customer ID          0\n",
       "Customer Name      321\n",
       "Gender               0\n",
       "Segment           4205\n",
       "Product ID           0\n",
       "Category            52\n",
       "Sub Category         0\n",
       "Product Name        42\n",
       "Quantity             0\n",
       "Price per Unit     305\n",
       "dtype: int64"
      ]
     },
     "execution_count": 6,
     "metadata": {},
     "output_type": "execute_result"
    }
   ],
   "source": [
    "data.isnull().sum()"
   ]
  },
  {
   "cell_type": "code",
   "execution_count": 7,
   "id": "cd5a6426-3dd3-4d4c-bf8e-3e867ccc76ce",
   "metadata": {},
   "outputs": [
    {
     "data": {
      "text/plain": [
       "np.int64(250)"
      ]
     },
     "execution_count": 7,
     "metadata": {},
     "output_type": "execute_result"
    }
   ],
   "source": [
    "data.duplicated().sum()"
   ]
  },
  {
   "cell_type": "code",
   "execution_count": null,
   "id": "37c77d47-9a48-46ee-992b-15eb5ff13d22",
   "metadata": {},
   "outputs": [],
   "source": []
  },
  {
   "cell_type": "code",
   "execution_count": 8,
   "id": "b56199a2-8ef0-497b-b573-50fb82f7d88d",
   "metadata": {},
   "outputs": [
    {
     "data": {
      "text/plain": [
       "Row ID             int64\n",
       "Order Date        object\n",
       "Customer ID       object\n",
       "Customer Name     object\n",
       "Gender            object\n",
       "Segment           object\n",
       "Product ID        object\n",
       "Category          object\n",
       "Sub Category      object\n",
       "Product Name      object\n",
       "Quantity          object\n",
       "Price per Unit    object\n",
       "dtype: object"
      ]
     },
     "execution_count": 8,
     "metadata": {},
     "output_type": "execute_result"
    }
   ],
   "source": [
    "data.dtypes"
   ]
  },
  {
   "cell_type": "code",
   "execution_count": null,
   "id": "3cdf3430-0a3c-4c8e-9cea-480627eace73",
   "metadata": {},
   "outputs": [],
   "source": []
  },
  {
   "cell_type": "markdown",
   "id": "6f03537c-2bca-4f3b-93ab-3d3a006813f0",
   "metadata": {},
   "source": [
    "## Removing unnesessary signs('@,$,^,')"
   ]
  },
  {
   "cell_type": "code",
   "execution_count": 9,
   "id": "3f0e514a-3bd2-40e8-820e-642d251958d6",
   "metadata": {},
   "outputs": [],
   "source": [
    "data['Price per Unit']=data['Price per Unit'].str.replace('[^0-9]','', regex=True)\n"
   ]
  },
  {
   "cell_type": "markdown",
   "id": "457fd48a-d524-4873-af57-50986fb599b3",
   "metadata": {},
   "source": [
    "## Data Types"
   ]
  },
  {
   "cell_type": "code",
   "execution_count": 10,
   "id": "35c71ccd-df6a-49b8-9279-59749f6319e8",
   "metadata": {},
   "outputs": [],
   "source": [
    "data['Quantity']=pd.to_numeric(data['Quantity'],errors='coerce')"
   ]
  },
  {
   "cell_type": "code",
   "execution_count": 11,
   "id": "a5562aa1-4de6-4c85-8c51-19e78ff4fecc",
   "metadata": {},
   "outputs": [],
   "source": [
    "data['Price per Unit']=pd.to_numeric(data['Price per Unit'],errors='coerce')"
   ]
  },
  {
   "cell_type": "code",
   "execution_count": 12,
   "id": "b32c2718-20fb-407a-98ae-c95365eecae6",
   "metadata": {},
   "outputs": [
    {
     "name": "stderr",
     "output_type": "stream",
     "text": [
      "C:\\Users\\abc\\AppData\\Local\\Temp\\ipykernel_8204\\401593021.py:1: FutureWarning: A value is trying to be set on a copy of a DataFrame or Series through chained assignment using an inplace method.\n",
      "The behavior will change in pandas 3.0. This inplace method will never work because the intermediate object on which we are setting values always behaves as a copy.\n",
      "\n",
      "For example, when doing 'df[col].method(value, inplace=True)', try using 'df.method({col: value}, inplace=True)' or df[col] = df[col].method(value) instead, to perform the operation inplace on the original object.\n",
      "\n",
      "\n",
      "  data['Quantity'].fillna(0,inplace=True)\n"
     ]
    }
   ],
   "source": [
    "data['Quantity'].fillna(0,inplace=True)"
   ]
  },
  {
   "cell_type": "code",
   "execution_count": 13,
   "id": "f291ee6f-8a9d-4902-ae2d-4ee94f80c459",
   "metadata": {},
   "outputs": [],
   "source": [
    "data['Quantity']=data['Quantity'].astype('Int64')"
   ]
  },
  {
   "cell_type": "code",
   "execution_count": 14,
   "id": "e305a8a3-7952-4bfe-85ed-322ba2cc0bef",
   "metadata": {},
   "outputs": [
    {
     "name": "stderr",
     "output_type": "stream",
     "text": [
      "C:\\Users\\abc\\AppData\\Local\\Temp\\ipykernel_8204\\3328503084.py:1: UserWarning: Could not infer format, so each element will be parsed individually, falling back to `dateutil`. To ensure parsing is consistent and as-expected, please specify a format.\n",
      "  data['Order Date']=pd.to_datetime(data['Order Date'],errors='coerce')\n"
     ]
    }
   ],
   "source": [
    "data['Order Date']=pd.to_datetime(data['Order Date'],errors='coerce')"
   ]
  },
  {
   "cell_type": "code",
   "execution_count": null,
   "id": "eb459050-06d9-4bf2-b5cd-8789c3e9005d",
   "metadata": {},
   "outputs": [],
   "source": []
  },
  {
   "cell_type": "code",
   "execution_count": null,
   "id": "1e0fd8ee-6bb2-42a1-85d9-b1cb856401b8",
   "metadata": {},
   "outputs": [],
   "source": []
  },
  {
   "cell_type": "code",
   "execution_count": 15,
   "id": "115f901f-a14e-4d92-a5d7-96110cdcae89",
   "metadata": {},
   "outputs": [
    {
     "data": {
      "text/plain": [
       "Row ID                     int64\n",
       "Order Date        datetime64[ns]\n",
       "Customer ID               object\n",
       "Customer Name             object\n",
       "Gender                    object\n",
       "Segment                   object\n",
       "Product ID                object\n",
       "Category                  object\n",
       "Sub Category              object\n",
       "Product Name              object\n",
       "Quantity                   Int64\n",
       "Price per Unit           float64\n",
       "dtype: object"
      ]
     },
     "execution_count": 15,
     "metadata": {},
     "output_type": "execute_result"
    }
   ],
   "source": [
    "data.dtypes"
   ]
  },
  {
   "cell_type": "code",
   "execution_count": null,
   "id": "3bfce44c-249e-4e6a-8a6d-c4b0ea955c98",
   "metadata": {},
   "outputs": [],
   "source": []
  },
  {
   "cell_type": "code",
   "execution_count": 16,
   "id": "412bded0-bd30-4aaa-9c28-0f1d21464ed0",
   "metadata": {},
   "outputs": [
    {
     "data": {
      "text/plain": [
       "Row ID               0\n",
       "Order Date         632\n",
       "Customer ID          0\n",
       "Customer Name      321\n",
       "Gender               0\n",
       "Segment           4205\n",
       "Product ID           0\n",
       "Category            52\n",
       "Sub Category         0\n",
       "Product Name        42\n",
       "Quantity             0\n",
       "Price per Unit     305\n",
       "dtype: int64"
      ]
     },
     "execution_count": 16,
     "metadata": {},
     "output_type": "execute_result"
    }
   ],
   "source": [
    "data.isnull().sum()"
   ]
  },
  {
   "cell_type": "code",
   "execution_count": null,
   "id": "5fae842c-c9bd-4b0b-9494-f593b799370f",
   "metadata": {},
   "outputs": [],
   "source": []
  },
  {
   "cell_type": "markdown",
   "id": "11b51266-aea9-4ed1-bae6-fb684d0cbea9",
   "metadata": {},
   "source": [
    "## Missing Values"
   ]
  },
  {
   "cell_type": "code",
   "execution_count": 17,
   "id": "5e3ebcd4-ddc2-4617-8415-2bde6a75f00b",
   "metadata": {},
   "outputs": [
    {
     "name": "stderr",
     "output_type": "stream",
     "text": [
      "C:\\Users\\abc\\AppData\\Local\\Temp\\ipykernel_8204\\248863124.py:1: FutureWarning: A value is trying to be set on a copy of a DataFrame or Series through chained assignment using an inplace method.\n",
      "The behavior will change in pandas 3.0. This inplace method will never work because the intermediate object on which we are setting values always behaves as a copy.\n",
      "\n",
      "For example, when doing 'df[col].method(value, inplace=True)', try using 'df.method({col: value}, inplace=True)' or df[col] = df[col].method(value) instead, to perform the operation inplace on the original object.\n",
      "\n",
      "\n",
      "  data['Customer Name'].fillna('Unknown Person',inplace=True)\n"
     ]
    }
   ],
   "source": [
    "data['Customer Name'].fillna('Unknown Person',inplace=True)"
   ]
  },
  {
   "cell_type": "code",
   "execution_count": 18,
   "id": "a7718563-4689-47de-a3aa-9b2194335b80",
   "metadata": {},
   "outputs": [
    {
     "name": "stderr",
     "output_type": "stream",
     "text": [
      "C:\\Users\\abc\\AppData\\Local\\Temp\\ipykernel_8204\\88941145.py:1: FutureWarning: A value is trying to be set on a copy of a DataFrame or Series through chained assignment using an inplace method.\n",
      "The behavior will change in pandas 3.0. This inplace method will never work because the intermediate object on which we are setting values always behaves as a copy.\n",
      "\n",
      "For example, when doing 'df[col].method(value, inplace=True)', try using 'df.method({col: value}, inplace=True)' or df[col] = df[col].method(value) instead, to perform the operation inplace on the original object.\n",
      "\n",
      "\n",
      "  data['Segment'].fillna(data['Segment'].mode()[0],inplace=True)\n"
     ]
    }
   ],
   "source": [
    "data['Segment'].fillna(data['Segment'].mode()[0],inplace=True)"
   ]
  },
  {
   "cell_type": "code",
   "execution_count": 19,
   "id": "ca52095e-4dd4-4d80-944d-174f5be404fa",
   "metadata": {},
   "outputs": [
    {
     "name": "stderr",
     "output_type": "stream",
     "text": [
      "C:\\Users\\abc\\AppData\\Local\\Temp\\ipykernel_8204\\3596529251.py:1: FutureWarning: A value is trying to be set on a copy of a DataFrame or Series through chained assignment using an inplace method.\n",
      "The behavior will change in pandas 3.0. This inplace method will never work because the intermediate object on which we are setting values always behaves as a copy.\n",
      "\n",
      "For example, when doing 'df[col].method(value, inplace=True)', try using 'df.method({col: value}, inplace=True)' or df[col] = df[col].method(value) instead, to perform the operation inplace on the original object.\n",
      "\n",
      "\n",
      "  data['Category'].fillna(data['Category'].mode()[0],inplace=True)\n"
     ]
    }
   ],
   "source": [
    "data['Category'].fillna(data['Category'].mode()[0],inplace=True)"
   ]
  },
  {
   "cell_type": "code",
   "execution_count": 20,
   "id": "4871d450-87af-4f11-9f0e-a5f786177ed8",
   "metadata": {},
   "outputs": [
    {
     "name": "stderr",
     "output_type": "stream",
     "text": [
      "C:\\Users\\abc\\AppData\\Local\\Temp\\ipykernel_8204\\58956306.py:1: FutureWarning: A value is trying to be set on a copy of a DataFrame or Series through chained assignment using an inplace method.\n",
      "The behavior will change in pandas 3.0. This inplace method will never work because the intermediate object on which we are setting values always behaves as a copy.\n",
      "\n",
      "For example, when doing 'df[col].method(value, inplace=True)', try using 'df.method({col: value}, inplace=True)' or df[col] = df[col].method(value) instead, to perform the operation inplace on the original object.\n",
      "\n",
      "\n",
      "  data['Product Name'].fillna('Unknown Product',inplace=True)\n"
     ]
    }
   ],
   "source": [
    "data['Product Name'].fillna('Unknown Product',inplace=True)"
   ]
  },
  {
   "cell_type": "code",
   "execution_count": 21,
   "id": "54f65cc7-f675-4521-8729-ed0b4a874dbf",
   "metadata": {},
   "outputs": [
    {
     "name": "stderr",
     "output_type": "stream",
     "text": [
      "C:\\Users\\abc\\AppData\\Local\\Temp\\ipykernel_8204\\1327874070.py:1: FutureWarning: A value is trying to be set on a copy of a DataFrame or Series through chained assignment using an inplace method.\n",
      "The behavior will change in pandas 3.0. This inplace method will never work because the intermediate object on which we are setting values always behaves as a copy.\n",
      "\n",
      "For example, when doing 'df[col].method(value, inplace=True)', try using 'df.method({col: value}, inplace=True)' or df[col] = df[col].method(value) instead, to perform the operation inplace on the original object.\n",
      "\n",
      "\n",
      "  data['Price per Unit'].fillna(data['Price per Unit'].median(),inplace=True)\n"
     ]
    }
   ],
   "source": [
    "data['Price per Unit'].fillna(data['Price per Unit'].median(),inplace=True)"
   ]
  },
  {
   "cell_type": "markdown",
   "id": "5855e1ae-28e5-4fd8-b744-2166ce97f567",
   "metadata": {},
   "source": [
    "## Drop 0 Quantity Rows"
   ]
  },
  {
   "cell_type": "code",
   "execution_count": 22,
   "id": "b5b3ad0b-f436-4992-b166-d1c3589f2a17",
   "metadata": {},
   "outputs": [],
   "source": [
    "data=data[data['Quantity']!=0]"
   ]
  },
  {
   "cell_type": "code",
   "execution_count": null,
   "id": "69d9dcb6-3304-4b36-a778-dd836ff0eab0",
   "metadata": {},
   "outputs": [],
   "source": []
  },
  {
   "cell_type": "code",
   "execution_count": 23,
   "id": "28572a0c-33ff-4687-b80f-99da2a34eac6",
   "metadata": {},
   "outputs": [],
   "source": [
    "data=data.dropna(subset=['Order Date'])"
   ]
  },
  {
   "cell_type": "code",
   "execution_count": 24,
   "id": "a46c7f54-6486-498e-9d5c-68b28e50fb61",
   "metadata": {},
   "outputs": [
    {
     "data": {
      "text/plain": [
       "Row ID            0\n",
       "Order Date        0\n",
       "Customer ID       0\n",
       "Customer Name     0\n",
       "Gender            0\n",
       "Segment           0\n",
       "Product ID        0\n",
       "Category          0\n",
       "Sub Category      0\n",
       "Product Name      0\n",
       "Quantity          0\n",
       "Price per Unit    0\n",
       "dtype: int64"
      ]
     },
     "execution_count": 24,
     "metadata": {},
     "output_type": "execute_result"
    }
   ],
   "source": [
    "data.isnull().sum()"
   ]
  },
  {
   "cell_type": "code",
   "execution_count": null,
   "id": "6514adcf-e88b-4a7b-bdb0-94bc821c8212",
   "metadata": {},
   "outputs": [],
   "source": []
  },
  {
   "cell_type": "markdown",
   "id": "92d93a17-d11f-4eb4-8d8e-076f90c9cfe1",
   "metadata": {},
   "source": [
    "## Duplicate Values"
   ]
  },
  {
   "cell_type": "code",
   "execution_count": 25,
   "id": "fd21bc2e-d7dc-4ccf-8174-a94d296084d3",
   "metadata": {},
   "outputs": [
    {
     "data": {
      "text/plain": [
       "np.int64(234)"
      ]
     },
     "execution_count": 25,
     "metadata": {},
     "output_type": "execute_result"
    }
   ],
   "source": [
    "data.duplicated().sum()"
   ]
  },
  {
   "cell_type": "code",
   "execution_count": 26,
   "id": "cbc4f18b-3e62-4447-aefe-33c26886504d",
   "metadata": {},
   "outputs": [],
   "source": [
    "data.drop_duplicates(inplace=True)"
   ]
  },
  {
   "cell_type": "code",
   "execution_count": 27,
   "id": "13901fab-dda7-4b0d-b076-9bd0f96209f0",
   "metadata": {},
   "outputs": [
    {
     "data": {
      "text/plain": [
       "np.int64(0)"
      ]
     },
     "execution_count": 27,
     "metadata": {},
     "output_type": "execute_result"
    }
   ],
   "source": [
    "data.duplicated().sum()"
   ]
  },
  {
   "cell_type": "code",
   "execution_count": null,
   "id": "e936fe12-db2c-4a35-a6b8-f6bd48536c48",
   "metadata": {},
   "outputs": [],
   "source": []
  },
  {
   "cell_type": "markdown",
   "id": "7726496f-61ce-4be4-ae1c-2380a336b164",
   "metadata": {},
   "source": [
    "## Remove Extra Spaces"
   ]
  },
  {
   "cell_type": "code",
   "execution_count": 28,
   "id": "7dae1b21-8ee2-418c-a7a2-93f12f88f0a7",
   "metadata": {},
   "outputs": [],
   "source": [
    "text_col=['Customer Name','Gender','Segment','Category','Sub Category','Product Name']\n"
   ]
  },
  {
   "cell_type": "code",
   "execution_count": 29,
   "id": "bb84f52f-218b-490a-8bb4-17185d8ca1e5",
   "metadata": {},
   "outputs": [],
   "source": [
    "for col in text_col:\n",
    "    data[col]=data[col].astype(str).str.strip().str.title()"
   ]
  },
  {
   "cell_type": "code",
   "execution_count": null,
   "id": "26ef0f41-bf62-4388-8d0a-3ef8de1ff434",
   "metadata": {},
   "outputs": [],
   "source": []
  },
  {
   "cell_type": "code",
   "execution_count": 30,
   "id": "90af445b-c921-4dff-8bec-f4ad73e036a4",
   "metadata": {},
   "outputs": [
    {
     "data": {
      "text/html": [
       "<div>\n",
       "<style scoped>\n",
       "    .dataframe tbody tr th:only-of-type {\n",
       "        vertical-align: middle;\n",
       "    }\n",
       "\n",
       "    .dataframe tbody tr th {\n",
       "        vertical-align: top;\n",
       "    }\n",
       "\n",
       "    .dataframe thead th {\n",
       "        text-align: right;\n",
       "    }\n",
       "</style>\n",
       "<table border=\"1\" class=\"dataframe\">\n",
       "  <thead>\n",
       "    <tr style=\"text-align: right;\">\n",
       "      <th></th>\n",
       "      <th>Row ID</th>\n",
       "      <th>Order Date</th>\n",
       "      <th>Customer ID</th>\n",
       "      <th>Customer Name</th>\n",
       "      <th>Gender</th>\n",
       "      <th>Segment</th>\n",
       "      <th>Product ID</th>\n",
       "      <th>Category</th>\n",
       "      <th>Sub Category</th>\n",
       "      <th>Product Name</th>\n",
       "      <th>Quantity</th>\n",
       "      <th>Price per Unit</th>\n",
       "    </tr>\n",
       "  </thead>\n",
       "  <tbody>\n",
       "    <tr>\n",
       "      <th>1</th>\n",
       "      <td>5640</td>\n",
       "      <td>2024-09-28</td>\n",
       "      <td>CUST-8543</td>\n",
       "      <td>Divya Menon</td>\n",
       "      <td>Female</td>\n",
       "      <td>Consumer</td>\n",
       "      <td>PROD-309</td>\n",
       "      <td>Office Supplies</td>\n",
       "      <td>Storage</td>\n",
       "      <td>File Box</td>\n",
       "      <td>7</td>\n",
       "      <td>120083.0</td>\n",
       "    </tr>\n",
       "    <tr>\n",
       "      <th>2</th>\n",
       "      <td>1358</td>\n",
       "      <td>2025-01-02</td>\n",
       "      <td>CUST-3820</td>\n",
       "      <td>Ritu Singh</td>\n",
       "      <td>Female</td>\n",
       "      <td>Corporate</td>\n",
       "      <td>PROD-360</td>\n",
       "      <td>Technology</td>\n",
       "      <td>Laptops</td>\n",
       "      <td>Gaming Laptop</td>\n",
       "      <td>1</td>\n",
       "      <td>12585.0</td>\n",
       "    </tr>\n",
       "    <tr>\n",
       "      <th>3</th>\n",
       "      <td>1497</td>\n",
       "      <td>2024-04-25</td>\n",
       "      <td>CUST-1685</td>\n",
       "      <td>Deepak Kumar</td>\n",
       "      <td>Male</td>\n",
       "      <td>Corporate</td>\n",
       "      <td>PROD-113</td>\n",
       "      <td>Technology</td>\n",
       "      <td>Accessories</td>\n",
       "      <td>Headphones</td>\n",
       "      <td>3</td>\n",
       "      <td>610697.0</td>\n",
       "    </tr>\n",
       "    <tr>\n",
       "      <th>4</th>\n",
       "      <td>5689</td>\n",
       "      <td>2025-07-01</td>\n",
       "      <td>CUST-8560</td>\n",
       "      <td>Meera Desai</td>\n",
       "      <td>Female</td>\n",
       "      <td>Home Office</td>\n",
       "      <td>PROD-880</td>\n",
       "      <td>Furniture</td>\n",
       "      <td>Chairs</td>\n",
       "      <td>Folding Chair</td>\n",
       "      <td>3</td>\n",
       "      <td>16157.0</td>\n",
       "    </tr>\n",
       "    <tr>\n",
       "      <th>5</th>\n",
       "      <td>6614</td>\n",
       "      <td>2022-05-01</td>\n",
       "      <td>CUST-2814</td>\n",
       "      <td>Mohammed Khan</td>\n",
       "      <td>Male</td>\n",
       "      <td>Consumer</td>\n",
       "      <td>PROD-359</td>\n",
       "      <td>Technology</td>\n",
       "      <td>Phones</td>\n",
       "      <td>Smartphone</td>\n",
       "      <td>1</td>\n",
       "      <td>452144.0</td>\n",
       "    </tr>\n",
       "  </tbody>\n",
       "</table>\n",
       "</div>"
      ],
      "text/plain": [
       "   Row ID Order Date Customer ID  Customer Name  Gender      Segment  \\\n",
       "1    5640 2024-09-28   CUST-8543    Divya Menon  Female     Consumer   \n",
       "2    1358 2025-01-02   CUST-3820     Ritu Singh  Female    Corporate   \n",
       "3    1497 2024-04-25   CUST-1685   Deepak Kumar    Male    Corporate   \n",
       "4    5689 2025-07-01   CUST-8560    Meera Desai  Female  Home Office   \n",
       "5    6614 2022-05-01   CUST-2814  Mohammed Khan    Male     Consumer   \n",
       "\n",
       "  Product ID         Category Sub Category   Product Name  Quantity  \\\n",
       "1   PROD-309  Office Supplies      Storage       File Box         7   \n",
       "2   PROD-360       Technology      Laptops  Gaming Laptop         1   \n",
       "3   PROD-113       Technology  Accessories     Headphones         3   \n",
       "4   PROD-880        Furniture       Chairs  Folding Chair         3   \n",
       "5   PROD-359       Technology       Phones     Smartphone         1   \n",
       "\n",
       "   Price per Unit  \n",
       "1        120083.0  \n",
       "2         12585.0  \n",
       "3        610697.0  \n",
       "4         16157.0  \n",
       "5        452144.0  "
      ]
     },
     "execution_count": 30,
     "metadata": {},
     "output_type": "execute_result"
    }
   ],
   "source": [
    "data.head()"
   ]
  },
  {
   "cell_type": "code",
   "execution_count": null,
   "id": "3fc033e0-cd82-4877-9c0a-47539ddd11b9",
   "metadata": {},
   "outputs": [],
   "source": []
  },
  {
   "cell_type": "markdown",
   "id": "56ea2369-8039-48a1-a971-acccd4fd4f0f",
   "metadata": {},
   "source": [
    "## Creating New Column"
   ]
  },
  {
   "cell_type": "code",
   "execution_count": 31,
   "id": "2b990954-b67d-4a24-bd2b-e1898349f6ee",
   "metadata": {},
   "outputs": [],
   "source": [
    "data['Total Sale']=data['Quantity']*data['Price per Unit']"
   ]
  },
  {
   "cell_type": "code",
   "execution_count": 32,
   "id": "fa0932aa-aba0-4e44-a815-f68b6212a6df",
   "metadata": {},
   "outputs": [],
   "source": [
    "data['Year']=data['Order Date'].dt.year"
   ]
  },
  {
   "cell_type": "code",
   "execution_count": 33,
   "id": "ae3fd932-11a3-4adb-b1f0-3f25b53da47f",
   "metadata": {},
   "outputs": [
    {
     "data": {
      "text/html": [
       "<div>\n",
       "<style scoped>\n",
       "    .dataframe tbody tr th:only-of-type {\n",
       "        vertical-align: middle;\n",
       "    }\n",
       "\n",
       "    .dataframe tbody tr th {\n",
       "        vertical-align: top;\n",
       "    }\n",
       "\n",
       "    .dataframe thead th {\n",
       "        text-align: right;\n",
       "    }\n",
       "</style>\n",
       "<table border=\"1\" class=\"dataframe\">\n",
       "  <thead>\n",
       "    <tr style=\"text-align: right;\">\n",
       "      <th></th>\n",
       "      <th>Row ID</th>\n",
       "      <th>Order Date</th>\n",
       "      <th>Customer ID</th>\n",
       "      <th>Customer Name</th>\n",
       "      <th>Gender</th>\n",
       "      <th>Segment</th>\n",
       "      <th>Product ID</th>\n",
       "      <th>Category</th>\n",
       "      <th>Sub Category</th>\n",
       "      <th>Product Name</th>\n",
       "      <th>Quantity</th>\n",
       "      <th>Price per Unit</th>\n",
       "      <th>Total Sale</th>\n",
       "      <th>Year</th>\n",
       "    </tr>\n",
       "  </thead>\n",
       "  <tbody>\n",
       "    <tr>\n",
       "      <th>1</th>\n",
       "      <td>5640</td>\n",
       "      <td>2024-09-28</td>\n",
       "      <td>CUST-8543</td>\n",
       "      <td>Divya Menon</td>\n",
       "      <td>Female</td>\n",
       "      <td>Consumer</td>\n",
       "      <td>PROD-309</td>\n",
       "      <td>Office Supplies</td>\n",
       "      <td>Storage</td>\n",
       "      <td>File Box</td>\n",
       "      <td>7</td>\n",
       "      <td>120083.0</td>\n",
       "      <td>840581.0</td>\n",
       "      <td>2024</td>\n",
       "    </tr>\n",
       "    <tr>\n",
       "      <th>2</th>\n",
       "      <td>1358</td>\n",
       "      <td>2025-01-02</td>\n",
       "      <td>CUST-3820</td>\n",
       "      <td>Ritu Singh</td>\n",
       "      <td>Female</td>\n",
       "      <td>Corporate</td>\n",
       "      <td>PROD-360</td>\n",
       "      <td>Technology</td>\n",
       "      <td>Laptops</td>\n",
       "      <td>Gaming Laptop</td>\n",
       "      <td>1</td>\n",
       "      <td>12585.0</td>\n",
       "      <td>12585.0</td>\n",
       "      <td>2025</td>\n",
       "    </tr>\n",
       "    <tr>\n",
       "      <th>3</th>\n",
       "      <td>1497</td>\n",
       "      <td>2024-04-25</td>\n",
       "      <td>CUST-1685</td>\n",
       "      <td>Deepak Kumar</td>\n",
       "      <td>Male</td>\n",
       "      <td>Corporate</td>\n",
       "      <td>PROD-113</td>\n",
       "      <td>Technology</td>\n",
       "      <td>Accessories</td>\n",
       "      <td>Headphones</td>\n",
       "      <td>3</td>\n",
       "      <td>610697.0</td>\n",
       "      <td>1832091.0</td>\n",
       "      <td>2024</td>\n",
       "    </tr>\n",
       "    <tr>\n",
       "      <th>4</th>\n",
       "      <td>5689</td>\n",
       "      <td>2025-07-01</td>\n",
       "      <td>CUST-8560</td>\n",
       "      <td>Meera Desai</td>\n",
       "      <td>Female</td>\n",
       "      <td>Home Office</td>\n",
       "      <td>PROD-880</td>\n",
       "      <td>Furniture</td>\n",
       "      <td>Chairs</td>\n",
       "      <td>Folding Chair</td>\n",
       "      <td>3</td>\n",
       "      <td>16157.0</td>\n",
       "      <td>48471.0</td>\n",
       "      <td>2025</td>\n",
       "    </tr>\n",
       "    <tr>\n",
       "      <th>5</th>\n",
       "      <td>6614</td>\n",
       "      <td>2022-05-01</td>\n",
       "      <td>CUST-2814</td>\n",
       "      <td>Mohammed Khan</td>\n",
       "      <td>Male</td>\n",
       "      <td>Consumer</td>\n",
       "      <td>PROD-359</td>\n",
       "      <td>Technology</td>\n",
       "      <td>Phones</td>\n",
       "      <td>Smartphone</td>\n",
       "      <td>1</td>\n",
       "      <td>452144.0</td>\n",
       "      <td>452144.0</td>\n",
       "      <td>2022</td>\n",
       "    </tr>\n",
       "  </tbody>\n",
       "</table>\n",
       "</div>"
      ],
      "text/plain": [
       "   Row ID Order Date Customer ID  Customer Name  Gender      Segment  \\\n",
       "1    5640 2024-09-28   CUST-8543    Divya Menon  Female     Consumer   \n",
       "2    1358 2025-01-02   CUST-3820     Ritu Singh  Female    Corporate   \n",
       "3    1497 2024-04-25   CUST-1685   Deepak Kumar    Male    Corporate   \n",
       "4    5689 2025-07-01   CUST-8560    Meera Desai  Female  Home Office   \n",
       "5    6614 2022-05-01   CUST-2814  Mohammed Khan    Male     Consumer   \n",
       "\n",
       "  Product ID         Category Sub Category   Product Name  Quantity  \\\n",
       "1   PROD-309  Office Supplies      Storage       File Box         7   \n",
       "2   PROD-360       Technology      Laptops  Gaming Laptop         1   \n",
       "3   PROD-113       Technology  Accessories     Headphones         3   \n",
       "4   PROD-880        Furniture       Chairs  Folding Chair         3   \n",
       "5   PROD-359       Technology       Phones     Smartphone         1   \n",
       "\n",
       "   Price per Unit  Total Sale  Year  \n",
       "1        120083.0    840581.0  2024  \n",
       "2         12585.0     12585.0  2025  \n",
       "3        610697.0   1832091.0  2024  \n",
       "4         16157.0     48471.0  2025  \n",
       "5        452144.0    452144.0  2022  "
      ]
     },
     "execution_count": 33,
     "metadata": {},
     "output_type": "execute_result"
    }
   ],
   "source": [
    "data.head()"
   ]
  },
  {
   "cell_type": "code",
   "execution_count": null,
   "id": "12c0548a-22ac-4c6d-8af9-c1bc35dc4eda",
   "metadata": {},
   "outputs": [],
   "source": []
  },
  {
   "cell_type": "markdown",
   "id": "0e48208b-aec1-49cf-aaf9-b8c44a02d67c",
   "metadata": {},
   "source": [
    "## Saved Cleaned Data"
   ]
  },
  {
   "cell_type": "code",
   "execution_count": 62,
   "id": "d99f9ef6-bfeb-4291-a668-2c3cc5ba386b",
   "metadata": {},
   "outputs": [],
   "source": [
    "data.to_csv('cleaned_ecommerce_data.csv',index=False)"
   ]
  },
  {
   "cell_type": "markdown",
   "id": "d406dcbb-1a6f-4236-87df-da89cb2ba999",
   "metadata": {},
   "source": [
    "# Exploratory Data Analysis(EDA)"
   ]
  },
  {
   "cell_type": "code",
   "execution_count": 34,
   "id": "570123e9-df4e-4928-9d5b-6b174809f3e9",
   "metadata": {},
   "outputs": [
    {
     "data": {
      "text/plain": [
       "(9527, 14)"
      ]
     },
     "execution_count": 34,
     "metadata": {},
     "output_type": "execute_result"
    }
   ],
   "source": [
    "data.shape"
   ]
  },
  {
   "cell_type": "code",
   "execution_count": null,
   "id": "b3049da5-7c42-4099-8c9a-c485eb5bc7fb",
   "metadata": {},
   "outputs": [],
   "source": []
  },
  {
   "cell_type": "code",
   "execution_count": 35,
   "id": "aa719665-6a45-43e7-b96a-59349845de7c",
   "metadata": {},
   "outputs": [
    {
     "data": {
      "text/plain": [
       "133378"
      ]
     },
     "execution_count": 35,
     "metadata": {},
     "output_type": "execute_result"
    }
   ],
   "source": [
    "data.size"
   ]
  },
  {
   "cell_type": "code",
   "execution_count": null,
   "id": "3c84eccf-c0ab-4960-81d5-c15bcff8ce98",
   "metadata": {},
   "outputs": [],
   "source": []
  },
  {
   "cell_type": "code",
   "execution_count": 36,
   "id": "c97fb105-7381-410a-b0b7-10416ed38947",
   "metadata": {},
   "outputs": [
    {
     "data": {
      "text/plain": [
       "Index(['Row ID', 'Order Date', 'Customer ID', 'Customer Name', 'Gender',\n",
       "       'Segment', 'Product ID', 'Category', 'Sub Category', 'Product Name',\n",
       "       'Quantity', 'Price per Unit', 'Total Sale', 'Year'],\n",
       "      dtype='object')"
      ]
     },
     "execution_count": 36,
     "metadata": {},
     "output_type": "execute_result"
    }
   ],
   "source": [
    "data.columns"
   ]
  },
  {
   "cell_type": "code",
   "execution_count": null,
   "id": "62207a2d-9b76-40a7-af2a-8b392bd6bde9",
   "metadata": {},
   "outputs": [],
   "source": []
  },
  {
   "cell_type": "markdown",
   "id": "9722d3d0-6bac-4a47-a159-fbccb4341e2c",
   "metadata": {},
   "source": [
    "## Information About Data"
   ]
  },
  {
   "cell_type": "code",
   "execution_count": 37,
   "id": "b56a5338-fe68-4ca4-9de3-5df4014a5125",
   "metadata": {},
   "outputs": [
    {
     "name": "stdout",
     "output_type": "stream",
     "text": [
      "<class 'pandas.core.frame.DataFrame'>\n",
      "Index: 9527 entries, 1 to 10499\n",
      "Data columns (total 14 columns):\n",
      " #   Column          Non-Null Count  Dtype         \n",
      "---  ------          --------------  -----         \n",
      " 0   Row ID          9527 non-null   int64         \n",
      " 1   Order Date      9527 non-null   datetime64[ns]\n",
      " 2   Customer ID     9527 non-null   object        \n",
      " 3   Customer Name   9527 non-null   object        \n",
      " 4   Gender          9527 non-null   object        \n",
      " 5   Segment         9527 non-null   object        \n",
      " 6   Product ID      9527 non-null   object        \n",
      " 7   Category        9527 non-null   object        \n",
      " 8   Sub Category    9527 non-null   object        \n",
      " 9   Product Name    9527 non-null   object        \n",
      " 10  Quantity        9527 non-null   Int64         \n",
      " 11  Price per Unit  9527 non-null   float64       \n",
      " 12  Total Sale      9527 non-null   Float64       \n",
      " 13  Year            9527 non-null   int32         \n",
      "dtypes: Float64(1), Int64(1), datetime64[ns](1), float64(1), int32(1), int64(1), object(8)\n",
      "memory usage: 1.1+ MB\n"
     ]
    }
   ],
   "source": [
    "data.info()"
   ]
  },
  {
   "cell_type": "code",
   "execution_count": null,
   "id": "896543ea-0d35-47ae-882f-0119651918c1",
   "metadata": {},
   "outputs": [],
   "source": []
  },
  {
   "cell_type": "markdown",
   "id": "cd98f29d-0692-4a29-ac31-e93650ed411f",
   "metadata": {},
   "source": [
    "## Description About Data"
   ]
  },
  {
   "cell_type": "code",
   "execution_count": 38,
   "id": "fb2291d2-2349-4f22-9fdb-403d8cd33e15",
   "metadata": {},
   "outputs": [
    {
     "data": {
      "text/html": [
       "<div>\n",
       "<style scoped>\n",
       "    .dataframe tbody tr th:only-of-type {\n",
       "        vertical-align: middle;\n",
       "    }\n",
       "\n",
       "    .dataframe tbody tr th {\n",
       "        vertical-align: top;\n",
       "    }\n",
       "\n",
       "    .dataframe thead th {\n",
       "        text-align: right;\n",
       "    }\n",
       "</style>\n",
       "<table border=\"1\" class=\"dataframe\">\n",
       "  <thead>\n",
       "    <tr style=\"text-align: right;\">\n",
       "      <th></th>\n",
       "      <th>Row ID</th>\n",
       "      <th>Order Date</th>\n",
       "      <th>Quantity</th>\n",
       "      <th>Price per Unit</th>\n",
       "      <th>Total Sale</th>\n",
       "      <th>Year</th>\n",
       "    </tr>\n",
       "  </thead>\n",
       "  <tbody>\n",
       "    <tr>\n",
       "      <th>count</th>\n",
       "      <td>9527.000000</td>\n",
       "      <td>9527</td>\n",
       "      <td>9527.0</td>\n",
       "      <td>9527.000000</td>\n",
       "      <td>9527.0</td>\n",
       "      <td>9527.000000</td>\n",
       "    </tr>\n",
       "    <tr>\n",
       "      <th>mean</th>\n",
       "      <td>5128.212029</td>\n",
       "      <td>2022-11-10 09:56:17.054686720</td>\n",
       "      <td>5.433715</td>\n",
       "      <td>350474.139288</td>\n",
       "      <td>1892773.409678</td>\n",
       "      <td>2022.375459</td>\n",
       "    </tr>\n",
       "    <tr>\n",
       "      <th>min</th>\n",
       "      <td>1.000000</td>\n",
       "      <td>2020-01-01 00:00:00</td>\n",
       "      <td>1.0</td>\n",
       "      <td>761.000000</td>\n",
       "      <td>1645.0</td>\n",
       "      <td>2020.000000</td>\n",
       "    </tr>\n",
       "    <tr>\n",
       "      <th>25%</th>\n",
       "      <td>2560.500000</td>\n",
       "      <td>2021-05-26 00:00:00</td>\n",
       "      <td>3.0</td>\n",
       "      <td>145455.500000</td>\n",
       "      <td>507040.5</td>\n",
       "      <td>2021.000000</td>\n",
       "    </tr>\n",
       "    <tr>\n",
       "      <th>50%</th>\n",
       "      <td>5123.000000</td>\n",
       "      <td>2022-11-07 00:00:00</td>\n",
       "      <td>5.0</td>\n",
       "      <td>347709.000000</td>\n",
       "      <td>1392546.0</td>\n",
       "      <td>2022.000000</td>\n",
       "    </tr>\n",
       "    <tr>\n",
       "      <th>75%</th>\n",
       "      <td>7696.500000</td>\n",
       "      <td>2024-04-25 00:00:00</td>\n",
       "      <td>8.0</td>\n",
       "      <td>544279.000000</td>\n",
       "      <td>2899379.0</td>\n",
       "      <td>2024.000000</td>\n",
       "    </tr>\n",
       "    <tr>\n",
       "      <th>max</th>\n",
       "      <td>10250.000000</td>\n",
       "      <td>2025-12-08 00:00:00</td>\n",
       "      <td>10.0</td>\n",
       "      <td>749813.000000</td>\n",
       "      <td>7486270.0</td>\n",
       "      <td>2025.000000</td>\n",
       "    </tr>\n",
       "    <tr>\n",
       "      <th>std</th>\n",
       "      <td>2959.731773</td>\n",
       "      <td>NaN</td>\n",
       "      <td>2.857595</td>\n",
       "      <td>223879.543452</td>\n",
       "      <td>1675823.549764</td>\n",
       "      <td>1.672855</td>\n",
       "    </tr>\n",
       "  </tbody>\n",
       "</table>\n",
       "</div>"
      ],
      "text/plain": [
       "             Row ID                     Order Date  Quantity  Price per Unit  \\\n",
       "count   9527.000000                           9527    9527.0     9527.000000   \n",
       "mean    5128.212029  2022-11-10 09:56:17.054686720  5.433715   350474.139288   \n",
       "min        1.000000            2020-01-01 00:00:00       1.0      761.000000   \n",
       "25%     2560.500000            2021-05-26 00:00:00       3.0   145455.500000   \n",
       "50%     5123.000000            2022-11-07 00:00:00       5.0   347709.000000   \n",
       "75%     7696.500000            2024-04-25 00:00:00       8.0   544279.000000   \n",
       "max    10250.000000            2025-12-08 00:00:00      10.0   749813.000000   \n",
       "std     2959.731773                            NaN  2.857595   223879.543452   \n",
       "\n",
       "           Total Sale         Year  \n",
       "count          9527.0  9527.000000  \n",
       "mean   1892773.409678  2022.375459  \n",
       "min            1645.0  2020.000000  \n",
       "25%          507040.5  2021.000000  \n",
       "50%         1392546.0  2022.000000  \n",
       "75%         2899379.0  2024.000000  \n",
       "max         7486270.0  2025.000000  \n",
       "std    1675823.549764     1.672855  "
      ]
     },
     "execution_count": 38,
     "metadata": {},
     "output_type": "execute_result"
    }
   ],
   "source": [
    "data.describe()"
   ]
  },
  {
   "cell_type": "code",
   "execution_count": null,
   "id": "1aeccdcf-0d44-4a5f-94ab-89d74c19c220",
   "metadata": {},
   "outputs": [],
   "source": []
  },
  {
   "cell_type": "markdown",
   "id": "e2e7304c-d77f-48b7-9643-54b7dc7d6bbc",
   "metadata": {},
   "source": [
    "## Correlation Values"
   ]
  },
  {
   "cell_type": "code",
   "execution_count": 39,
   "id": "2e3c4e64-8383-4532-ab1c-940231469f5f",
   "metadata": {},
   "outputs": [
    {
     "data": {
      "text/html": [
       "<div>\n",
       "<style scoped>\n",
       "    .dataframe tbody tr th:only-of-type {\n",
       "        vertical-align: middle;\n",
       "    }\n",
       "\n",
       "    .dataframe tbody tr th {\n",
       "        vertical-align: top;\n",
       "    }\n",
       "\n",
       "    .dataframe thead th {\n",
       "        text-align: right;\n",
       "    }\n",
       "</style>\n",
       "<table border=\"1\" class=\"dataframe\">\n",
       "  <thead>\n",
       "    <tr style=\"text-align: right;\">\n",
       "      <th></th>\n",
       "      <th>Row ID</th>\n",
       "      <th>Quantity</th>\n",
       "      <th>Price per Unit</th>\n",
       "      <th>Total Sale</th>\n",
       "      <th>Year</th>\n",
       "    </tr>\n",
       "  </thead>\n",
       "  <tbody>\n",
       "    <tr>\n",
       "      <th>Row ID</th>\n",
       "      <td>1.000000</td>\n",
       "      <td>0.002739</td>\n",
       "      <td>0.017736</td>\n",
       "      <td>0.009806</td>\n",
       "      <td>-0.020225</td>\n",
       "    </tr>\n",
       "    <tr>\n",
       "      <th>Quantity</th>\n",
       "      <td>0.002739</td>\n",
       "      <td>1.000000</td>\n",
       "      <td>-0.018139</td>\n",
       "      <td>0.577707</td>\n",
       "      <td>0.000101</td>\n",
       "    </tr>\n",
       "    <tr>\n",
       "      <th>Price per Unit</th>\n",
       "      <td>0.017736</td>\n",
       "      <td>-0.018139</td>\n",
       "      <td>1.000000</td>\n",
       "      <td>0.712040</td>\n",
       "      <td>0.013049</td>\n",
       "    </tr>\n",
       "    <tr>\n",
       "      <th>Total Sale</th>\n",
       "      <td>0.009806</td>\n",
       "      <td>0.577707</td>\n",
       "      <td>0.712040</td>\n",
       "      <td>1.000000</td>\n",
       "      <td>0.013774</td>\n",
       "    </tr>\n",
       "    <tr>\n",
       "      <th>Year</th>\n",
       "      <td>-0.020225</td>\n",
       "      <td>0.000101</td>\n",
       "      <td>0.013049</td>\n",
       "      <td>0.013774</td>\n",
       "      <td>1.000000</td>\n",
       "    </tr>\n",
       "  </tbody>\n",
       "</table>\n",
       "</div>"
      ],
      "text/plain": [
       "                  Row ID  Quantity  Price per Unit  Total Sale      Year\n",
       "Row ID          1.000000  0.002739        0.017736    0.009806 -0.020225\n",
       "Quantity        0.002739  1.000000       -0.018139    0.577707  0.000101\n",
       "Price per Unit  0.017736 -0.018139        1.000000    0.712040  0.013049\n",
       "Total Sale      0.009806  0.577707        0.712040    1.000000  0.013774\n",
       "Year           -0.020225  0.000101        0.013049    0.013774  1.000000"
      ]
     },
     "execution_count": 39,
     "metadata": {},
     "output_type": "execute_result"
    }
   ],
   "source": [
    "data.corr(numeric_only=True)"
   ]
  },
  {
   "cell_type": "code",
   "execution_count": null,
   "id": "e4c135a0-0a26-45b9-9b75-3c06670e0f16",
   "metadata": {},
   "outputs": [],
   "source": []
  },
  {
   "cell_type": "markdown",
   "id": "beb612a0-d30f-47df-8437-88c37536e01c",
   "metadata": {},
   "source": [
    "## Categorical Data Analysis"
   ]
  },
  {
   "cell_type": "code",
   "execution_count": 40,
   "id": "ec0aee18-6623-4ff6-bf35-41ad58730a32",
   "metadata": {},
   "outputs": [
    {
     "data": {
      "text/html": [
       "<div>\n",
       "<style scoped>\n",
       "    .dataframe tbody tr th:only-of-type {\n",
       "        vertical-align: middle;\n",
       "    }\n",
       "\n",
       "    .dataframe tbody tr th {\n",
       "        vertical-align: top;\n",
       "    }\n",
       "\n",
       "    .dataframe thead th {\n",
       "        text-align: right;\n",
       "    }\n",
       "</style>\n",
       "<table border=\"1\" class=\"dataframe\">\n",
       "  <thead>\n",
       "    <tr style=\"text-align: right;\">\n",
       "      <th></th>\n",
       "      <th>Customer ID</th>\n",
       "      <th>Customer Name</th>\n",
       "      <th>Gender</th>\n",
       "      <th>Segment</th>\n",
       "      <th>Product ID</th>\n",
       "      <th>Category</th>\n",
       "      <th>Sub Category</th>\n",
       "      <th>Product Name</th>\n",
       "    </tr>\n",
       "  </thead>\n",
       "  <tbody>\n",
       "    <tr>\n",
       "      <th>count</th>\n",
       "      <td>9527</td>\n",
       "      <td>9527</td>\n",
       "      <td>9527</td>\n",
       "      <td>9527</td>\n",
       "      <td>9527</td>\n",
       "      <td>9527</td>\n",
       "      <td>9527</td>\n",
       "      <td>9527</td>\n",
       "    </tr>\n",
       "    <tr>\n",
       "      <th>unique</th>\n",
       "      <td>5781</td>\n",
       "      <td>61</td>\n",
       "      <td>2</td>\n",
       "      <td>3</td>\n",
       "      <td>900</td>\n",
       "      <td>3</td>\n",
       "      <td>11</td>\n",
       "      <td>33</td>\n",
       "    </tr>\n",
       "    <tr>\n",
       "      <th>top</th>\n",
       "      <td>CUST-8586</td>\n",
       "      <td>Unknown Person</td>\n",
       "      <td>Male</td>\n",
       "      <td>Corporate</td>\n",
       "      <td>PROD-717</td>\n",
       "      <td>Office Supplies</td>\n",
       "      <td>Bookcases</td>\n",
       "      <td>Gaming Laptop</td>\n",
       "    </tr>\n",
       "    <tr>\n",
       "      <th>freq</th>\n",
       "      <td>6</td>\n",
       "      <td>291</td>\n",
       "      <td>4822</td>\n",
       "      <td>5773</td>\n",
       "      <td>25</td>\n",
       "      <td>3289</td>\n",
       "      <td>1038</td>\n",
       "      <td>436</td>\n",
       "    </tr>\n",
       "  </tbody>\n",
       "</table>\n",
       "</div>"
      ],
      "text/plain": [
       "       Customer ID   Customer Name Gender    Segment Product ID  \\\n",
       "count         9527            9527   9527       9527       9527   \n",
       "unique        5781              61      2          3        900   \n",
       "top      CUST-8586  Unknown Person   Male  Corporate   PROD-717   \n",
       "freq             6             291   4822       5773         25   \n",
       "\n",
       "               Category Sub Category   Product Name  \n",
       "count              9527         9527           9527  \n",
       "unique                3           11             33  \n",
       "top     Office Supplies    Bookcases  Gaming Laptop  \n",
       "freq               3289         1038            436  "
      ]
     },
     "execution_count": 40,
     "metadata": {},
     "output_type": "execute_result"
    }
   ],
   "source": [
    "data.describe(include='object')"
   ]
  },
  {
   "cell_type": "code",
   "execution_count": null,
   "id": "e209cc5c-e4f3-4ec0-8f20-6ef928eb124f",
   "metadata": {},
   "outputs": [],
   "source": []
  },
  {
   "cell_type": "code",
   "execution_count": 41,
   "id": "8f0e1b79-3baf-4657-a2bd-37ad7fb8536b",
   "metadata": {},
   "outputs": [
    {
     "data": {
      "text/plain": [
       "array(['File Box', 'Gaming Laptop', 'Headphones', 'Folding Chair',\n",
       "       'Smartphone', 'Ballpoint Pen', 'Cordless Phone', 'Sticky Notes',\n",
       "       'Marker', 'Wooden Bookcase', 'View Binder', 'Ultrabook Laptop',\n",
       "       'Office Desk', 'Fountain Pen', 'Conference Table', 'Metal Shelf',\n",
       "       'Charger', 'Laser Copier', 'Inkjet Copier', 'Storage Bin',\n",
       "       'Desk Organizer', 'Corner Shelf', 'Folding Table', 'Mouse',\n",
       "       'Ring Binder', 'Executive Chair', 'Keyboard', 'Ergonomic Chair',\n",
       "       'Printer Paper', 'Notebook', 'Desk Phone', 'Unknown Product',\n",
       "       'Mesh Chair'], dtype=object)"
      ]
     },
     "execution_count": 41,
     "metadata": {},
     "output_type": "execute_result"
    }
   ],
   "source": [
    "data['Product Name'].unique()"
   ]
  },
  {
   "cell_type": "code",
   "execution_count": 42,
   "id": "18cda251-e597-4d1b-81ec-89a909d9cde0",
   "metadata": {},
   "outputs": [
    {
     "data": {
      "text/plain": [
       "Product Name\n",
       "Gaming Laptop       436\n",
       "Ultrabook Laptop    403\n",
       "View Binder         402\n",
       "Laser Copier        402\n",
       "Inkjet Copier       383\n",
       "Name: count, dtype: int64"
      ]
     },
     "execution_count": 42,
     "metadata": {},
     "output_type": "execute_result"
    }
   ],
   "source": [
    "data['Product Name'].value_counts().head(5)"
   ]
  },
  {
   "cell_type": "code",
   "execution_count": null,
   "id": "8c19ac03-ef4b-4be4-a653-6c204dc89ad5",
   "metadata": {},
   "outputs": [],
   "source": []
  },
  {
   "cell_type": "code",
   "execution_count": 43,
   "id": "25493758-2d2d-4926-acf6-d03e1b1b1671",
   "metadata": {},
   "outputs": [
    {
     "data": {
      "text/plain": [
       "array(['Female', 'Male'], dtype=object)"
      ]
     },
     "execution_count": 43,
     "metadata": {},
     "output_type": "execute_result"
    }
   ],
   "source": [
    "data['Gender'].unique()"
   ]
  },
  {
   "cell_type": "code",
   "execution_count": 44,
   "id": "899b5745-b996-4d8a-9a75-23e2947948cc",
   "metadata": {},
   "outputs": [
    {
     "data": {
      "text/plain": [
       "Gender\n",
       "Male      4822\n",
       "Female    4705\n",
       "Name: count, dtype: int64"
      ]
     },
     "execution_count": 44,
     "metadata": {},
     "output_type": "execute_result"
    }
   ],
   "source": [
    "data['Gender'].value_counts()"
   ]
  },
  {
   "cell_type": "code",
   "execution_count": null,
   "id": "3971ce7c-85bc-4d08-93f0-d194620a63a2",
   "metadata": {},
   "outputs": [],
   "source": []
  },
  {
   "cell_type": "markdown",
   "id": "8aacb0ac-19ab-49d2-abe4-7bfb9604847b",
   "metadata": {},
   "source": [
    "#       * CREATING VISUALS *"
   ]
  },
  {
   "cell_type": "markdown",
   "id": "c9925b7b-1936-4d62-b4e8-982c327eb8d3",
   "metadata": {},
   "source": [
    "## Bar Chart- total sale by category"
   ]
  },
  {
   "cell_type": "code",
   "execution_count": 45,
   "id": "ce13e29d-2139-4fa3-83d8-a406ab307fca",
   "metadata": {},
   "outputs": [],
   "source": [
    "category_sales=data.groupby('Category')['Total Sale'].sum().sort_values(ascending=False)"
   ]
  },
  {
   "cell_type": "code",
   "execution_count": 46,
   "id": "732d8352-1092-4455-a05f-8d29a8b38072",
   "metadata": {},
   "outputs": [
    {
     "data": {
      "text/plain": [
       "Category\n",
       "Office Supplies    6211405047.0\n",
       "Technology         5960004365.0\n",
       "Furniture          5861042862.0\n",
       "Name: Total Sale, dtype: Float64"
      ]
     },
     "execution_count": 46,
     "metadata": {},
     "output_type": "execute_result"
    }
   ],
   "source": [
    "category_sales"
   ]
  },
  {
   "cell_type": "code",
   "execution_count": 47,
   "id": "cd759250-3135-45aa-9d02-dd6bb5152f24",
   "metadata": {},
   "outputs": [
    {
     "data": {
      "image/png": "[encoded data removed]",
      "text/plain": [
       "<Figure size 800x700 with 1 Axes>"
      ]
     },
     "metadata": {},
     "output_type": "display_data"
    }
   ],
   "source": [
    "plt.figure(figsize=(8,7))\n",
    "sns.barplot(x=category_sales.index,y=category_sales.values,color='orange',width=0.5)\n",
    "plt.title('TOTAL SALES BY CATEGORY',fontsize=13)\n",
    "plt.xlabel('Category')\n",
    "plt.ylabel('Total Sales')\n",
    "plt.show()"
   ]
  },
  {
   "cell_type": "code",
   "execution_count": null,
   "id": "61b567e5-f0fb-4a72-95c0-16db6e5c00e3",
   "metadata": {},
   "outputs": [],
   "source": []
  },
  {
   "cell_type": "markdown",
   "id": "cdd6c574-3ffa-4cea-8182-f0c2578e6d74",
   "metadata": {},
   "source": [
    "## Bar Chart"
   ]
  },
  {
   "cell_type": "code",
   "execution_count": 48,
   "id": "0cad235e-cd76-4256-b9da-a61cdf5d8ce3",
   "metadata": {},
   "outputs": [],
   "source": [
    "sub_category=data.groupby('Sub Category')['Total Sale'].sum().sort_values(ascending=False)"
   ]
  },
  {
   "cell_type": "code",
   "execution_count": 49,
   "id": "bf108ce9-44bd-48f1-b66a-d878d82d6855",
   "metadata": {},
   "outputs": [
    {
     "data": {
      "text/plain": [
       "Sub Category\n",
       "Tables         2009314068.0\n",
       "Bookcases      1943556343.0\n",
       "Chairs         1935410031.0\n",
       "Paper          1630418513.0\n",
       "Laptops        1566303654.0\n",
       "Storage        1531581051.0\n",
       "Copiers        1531221952.0\n",
       "Binders        1504198844.0\n",
       "Writing        1496105889.0\n",
       "Accessories    1476826256.0\n",
       "Phones         1407515673.0\n",
       "Name: Total Sale, dtype: Float64"
      ]
     },
     "execution_count": 49,
     "metadata": {},
     "output_type": "execute_result"
    }
   ],
   "source": [
    "sub_category"
   ]
  },
  {
   "cell_type": "code",
   "execution_count": null,
   "id": "b9b77ed9-8230-45f0-b33e-9dcd7d5acdf6",
   "metadata": {},
   "outputs": [],
   "source": []
  },
  {
   "cell_type": "code",
   "execution_count": 50,
   "id": "d4f14b64-91b0-40df-aa2f-d8fefb159484",
   "metadata": {},
   "outputs": [
    {
     "data": {
      "image/png": "[encoded data removed]",
      "text/plain": [
       "<Figure size 1000x600 with 1 Axes>"
      ]
     },
     "metadata": {},
     "output_type": "display_data"
    }
   ],
   "source": [
    "plt.figure(figsize=(10,6))\n",
    "sns.barplot(x=sub_category.index,y=sub_category.values)\n",
    "plt.title('SUB-CATEGORY WISE TOTAL SALE')\n",
    "plt.ylabel('Total Sales')\n",
    "plt.show()"
   ]
  },
  {
   "cell_type": "code",
   "execution_count": null,
   "id": "2a14e375-21f5-449d-95fe-213ee327358f",
   "metadata": {},
   "outputs": [],
   "source": []
  },
  {
   "cell_type": "markdown",
   "id": "ca027cf1-478b-423f-8d44-1a87f0df8a3f",
   "metadata": {},
   "source": [
    "## Segment vs total sales"
   ]
  },
  {
   "cell_type": "code",
   "execution_count": 51,
   "id": "2dcdfac7-8f22-4b71-87c0-73e08f9534c2",
   "metadata": {},
   "outputs": [
    {
     "data": {
      "image/png": "[encoded data removed]",
      "text/plain": [
       "<Figure size 640x480 with 1 Axes>"
      ]
     },
     "metadata": {},
     "output_type": "display_data"
    }
   ],
   "source": [
    "sns.barplot(x='Segment',y='Total Sale',data=data,estimator='sum',errorbar=None)\n",
    "plt.title('SEGMENT VS TOTAL SALES')\n",
    "plt.show()"
   ]
  },
  {
   "cell_type": "code",
   "execution_count": null,
   "id": "bfdb9801-0d56-49d2-b55e-4b963b7af2e0",
   "metadata": {},
   "outputs": [],
   "source": []
  },
  {
   "cell_type": "markdown",
   "id": "af3b7c71-5906-424d-a26f-c710ab6ca55d",
   "metadata": {},
   "source": [
    "## Gender Wise Order- Countplot"
   ]
  },
  {
   "cell_type": "code",
   "execution_count": 52,
   "id": "6992fe68-2c25-4d24-bd16-e51f81040097",
   "metadata": {},
   "outputs": [
    {
     "data": {
      "image/png": "[encoded data removed]",
      "text/plain": [
       "<Figure size 640x480 with 1 Axes>"
      ]
     },
     "metadata": {},
     "output_type": "display_data"
    }
   ],
   "source": [
    "sns.countplot(x='Gender',data=data,width=0.5)\n",
    "plt.title('GENDER WISE ORDERS')\n",
    "plt.show()"
   ]
  },
  {
   "cell_type": "code",
   "execution_count": null,
   "id": "3dcac748-0205-48c6-8e71-e3f3df0bab2d",
   "metadata": {},
   "outputs": [],
   "source": []
  },
  {
   "cell_type": "code",
   "execution_count": 53,
   "id": "e011e0e4-4860-4ccb-aede-965353382b75",
   "metadata": {},
   "outputs": [],
   "source": [
    "## Pie Chart-Gender wise orders"
   ]
  },
  {
   "cell_type": "code",
   "execution_count": 54,
   "id": "d62f184e-fe90-424d-9968-c5b82a209b49",
   "metadata": {},
   "outputs": [],
   "source": [
    "gender_counts=data['Gender'].value_counts()"
   ]
  },
  {
   "cell_type": "code",
   "execution_count": 55,
   "id": "fc77d5b0-c7c9-456f-b435-ec447bd3d187",
   "metadata": {},
   "outputs": [
    {
     "data": {
      "text/plain": [
       "Gender\n",
       "Male      4822\n",
       "Female    4705\n",
       "Name: count, dtype: int64"
      ]
     },
     "execution_count": 55,
     "metadata": {},
     "output_type": "execute_result"
    }
   ],
   "source": [
    "gender_counts"
   ]
  },
  {
   "cell_type": "code",
   "execution_count": null,
   "id": "ed8b0c5b-ca38-4529-8a73-53d26c83bbbd",
   "metadata": {},
   "outputs": [],
   "source": []
  },
  {
   "cell_type": "code",
   "execution_count": 56,
   "id": "3099218f-1748-4830-bb6c-827cfe75cb00",
   "metadata": {},
   "outputs": [
    {
     "data": {
      "image/png": "[encoded data removed]",
      "text/plain": [
       "<Figure size 600x600 with 1 Axes>"
      ]
     },
     "metadata": {},
     "output_type": "display_data"
    }
   ],
   "source": [
    "plt.figure(figsize=(6,6))\n",
    "plt.pie(gender_counts,labels=['Male','Female'],explode=[0.03,0],autopct='%0.1f%%')\n",
    "plt.title('GENDER WISE ORDER DISTRIBUTION')\n",
    "plt.show()"
   ]
  },
  {
   "cell_type": "code",
   "execution_count": null,
   "id": "d52a6d1c-c34b-4746-a0a1-ab4e32232507",
   "metadata": {},
   "outputs": [],
   "source": []
  },
  {
   "cell_type": "markdown",
   "id": "70b0e90f-bddf-4ad4-9a72-9e98bacbafd6",
   "metadata": {},
   "source": [
    "## Yearly sales trend"
   ]
  },
  {
   "cell_type": "code",
   "execution_count": 57,
   "id": "602deaea-6b33-4b5f-bc4a-eb9fc78fd31a",
   "metadata": {},
   "outputs": [],
   "source": [
    "sales_by_year=data.groupby('Year')['Total Sale'].sum().reset_index()\n"
   ]
  },
  {
   "cell_type": "code",
   "execution_count": 58,
   "id": "2ca492b9-8bd0-4459-bceb-b884f41bf303",
   "metadata": {},
   "outputs": [
    {
     "data": {
      "text/html": [
       "<div>\n",
       "<style scoped>\n",
       "    .dataframe tbody tr th:only-of-type {\n",
       "        vertical-align: middle;\n",
       "    }\n",
       "\n",
       "    .dataframe tbody tr th {\n",
       "        vertical-align: top;\n",
       "    }\n",
       "\n",
       "    .dataframe thead th {\n",
       "        text-align: right;\n",
       "    }\n",
       "</style>\n",
       "<table border=\"1\" class=\"dataframe\">\n",
       "  <thead>\n",
       "    <tr style=\"text-align: right;\">\n",
       "      <th></th>\n",
       "      <th>Year</th>\n",
       "      <th>Total Sale</th>\n",
       "    </tr>\n",
       "  </thead>\n",
       "  <tbody>\n",
       "    <tr>\n",
       "      <th>0</th>\n",
       "      <td>2020</td>\n",
       "      <td>3179960067.0</td>\n",
       "    </tr>\n",
       "    <tr>\n",
       "      <th>1</th>\n",
       "      <td>2021</td>\n",
       "      <td>3126240181.0</td>\n",
       "    </tr>\n",
       "    <tr>\n",
       "      <th>2</th>\n",
       "      <td>2022</td>\n",
       "      <td>3132493734.0</td>\n",
       "    </tr>\n",
       "    <tr>\n",
       "      <th>3</th>\n",
       "      <td>2023</td>\n",
       "      <td>3013373170.0</td>\n",
       "    </tr>\n",
       "    <tr>\n",
       "      <th>4</th>\n",
       "      <td>2024</td>\n",
       "      <td>3130084757.0</td>\n",
       "    </tr>\n",
       "    <tr>\n",
       "      <th>5</th>\n",
       "      <td>2025</td>\n",
       "      <td>2450300365.0</td>\n",
       "    </tr>\n",
       "  </tbody>\n",
       "</table>\n",
       "</div>"
      ],
      "text/plain": [
       "   Year    Total Sale\n",
       "0  2020  3179960067.0\n",
       "1  2021  3126240181.0\n",
       "2  2022  3132493734.0\n",
       "3  2023  3013373170.0\n",
       "4  2024  3130084757.0\n",
       "5  2025  2450300365.0"
      ]
     },
     "execution_count": 58,
     "metadata": {},
     "output_type": "execute_result"
    }
   ],
   "source": [
    "sales_by_year"
   ]
  },
  {
   "cell_type": "code",
   "execution_count": 59,
   "id": "a5096f25-6b22-4ac0-82a0-4a940b38a4ca",
   "metadata": {},
   "outputs": [
    {
     "data": {
      "image/png": "[encoded data removed]",
      "text/plain": [
       "<Figure size 640x480 with 1 Axes>"
      ]
     },
     "metadata": {},
     "output_type": "display_data"
    }
   ],
   "source": [
    "sns.lineplot(x='Year',y='Total Sale',data=sales_by_year,marker='o')\n",
    "plt.title('YEARLY SALES TREND')\n",
    "plt.show()"
   ]
  },
  {
   "cell_type": "code",
   "execution_count": null,
   "id": "4392ffbf-60d4-45bd-8ce2-d16bd25cc8eb",
   "metadata": {},
   "outputs": [],
   "source": []
  },
  {
   "cell_type": "markdown",
   "id": "3fb85f50-be78-46fe-ad30-220be8e60298",
   "metadata": {},
   "source": [
    "## Box plot for outlier detection"
   ]
  },
  {
   "cell_type": "code",
   "execution_count": 60,
   "id": "e598024e-630d-423d-940f-5b266362c77b",
   "metadata": {},
   "outputs": [
    {
     "data": {
      "image/png": "[encoded data removed]",
      "text/plain": [
       "<Figure size 640x480 with 1 Axes>"
      ]
     },
     "metadata": {},
     "output_type": "display_data"
    }
   ],
   "source": [
    "sns.boxplot(x='Gender',y='Total Sale',data=data)\n",
    "plt.show()"
   ]
  },
  {
   "cell_type": "code",
   "execution_count": null,
   "id": "ba346d8f-121d-458e-b7a2-3f5a453a315a",
   "metadata": {},
   "outputs": [],
   "source": []
  },
  {
   "cell_type": "markdown",
   "id": "0f164a64-e558-48d4-8add-2046d5052357",
   "metadata": {},
   "source": [
    "## Histogram-data frequency distribution"
   ]
  },
  {
   "cell_type": "code",
   "execution_count": 70,
   "id": "8aa8d39b-0f5c-443a-8253-c4ea16a9640b",
   "metadata": {},
   "outputs": [
    {
     "data": {
      "image/png": "[encoded data removed]",
      "text/plain": [
       "<Figure size 800x600 with 1 Axes>"
      ]
     },
     "metadata": {},
     "output_type": "display_data"
    }
   ],
   "source": [
    "plt.figure(figsize=(8,6))\n",
    "sns.histplot(data['Total Sale'],bins=25,color='orange',edgecolor='black',kde=True)\n",
    "plt.title('DISTRIBUTION OF TOTAL SALES')\n",
    "plt.xlabel('Total Sale Amount')\n",
    "plt.ylabel('Frequency')\n",
    "plt.show()"
   ]
  },
  {
   "cell_type": "code",
   "execution_count": null,
   "id": "6e2776f5-4cca-447a-8d79-45cdc0e73b7b",
   "metadata": {},
   "outputs": [],
   "source": []
  },
  {
   "cell_type": "markdown",
   "id": "c04cca75-4c9d-43fa-ab35-67c97d167af0",
   "metadata": {},
   "source": [
    "## KDE Plot"
   ]
  },
  {
   "cell_type": "code",
   "execution_count": 79,
   "id": "090adaa1-a277-42ef-9df2-e721b983dc67",
   "metadata": {},
   "outputs": [
    {
     "name": "stderr",
     "output_type": "stream",
     "text": [
      "C:\\Users\\abc\\AppData\\Local\\Temp\\ipykernel_8204\\351591476.py:1: FutureWarning: \n",
      "\n",
      "`shade` is now deprecated in favor of `fill`; setting `fill=True`.\n",
      "This will become an error in seaborn v0.14.0; please update your code.\n",
      "\n",
      "  sns.kdeplot(x='Total Sale',fill=True,data=data,hue='Segment',shade=True)\n"
     ]
    },
    {
     "data": {
      "image/png": "[encoded data removed]",
      "text/plain": [
       "<Figure size 640x480 with 1 Axes>"
      ]
     },
     "metadata": {},
     "output_type": "display_data"
    }
   ],
   "source": [
    "sns.kdeplot(x='Total Sale',fill=True,data=data,hue='Segment',shade=True)\n",
    "plt.show()"
   ]
  },
  {
   "cell_type": "code",
   "execution_count": null,
   "id": "2b7b4f4f-65d6-4b78-84fc-9f0ab6b09a6d",
   "metadata": {},
   "outputs": [],
   "source": []
  },
  {
   "cell_type": "code",
   "execution_count": null,
   "id": "cdac2be8-e891-4b72-b2c1-109f63f7bc53",
   "metadata": {},
   "outputs": [],
   "source": []
  },
  {
   "cell_type": "code",
   "execution_count": null,
   "id": "889975b0-f532-401e-a404-d3b790640d3b",
   "metadata": {},
   "outputs": [],
   "source": []
  },
  {
   "cell_type": "code",
   "execution_count": null,
   "id": "d1addb95-23f1-4686-954a-4c71dd02e17c",
   "metadata": {},
   "outputs": [],
   "source": []
  },
  {
   "cell_type": "code",
   "execution_count": null,
   "id": "729dfbd1-ad68-4f54-9a8a-fd0ea13786e0",
   "metadata": {},
   "outputs": [],
   "source": []
  }
 ],
 "metadata": {
  "kernelspec": {
   "display_name": "Python [conda env:base] *",
   "language": "python",
   "name": "conda-base-py"
  },
  "language_info": {
   "codemirror_mode": {
    "name": "ipython",
    "version": 3
   },
   "file_extension": ".py",
   "mimetype": "text/x-python",
   "name": "python",
   "nbconvert_exporter": "python",
   "pygments_lexer": "ipython3",
   "version": "3.13.5"
  }
 },
 "nbformat": 4,
 "nbformat_minor": 5
}
